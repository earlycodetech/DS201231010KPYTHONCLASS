{
 "cells": [
  {
   "cell_type": "markdown",
   "id": "56062530",
   "metadata": {},
   "source": [
    "# FUNCTIONS"
   ]
  },
  {
   "cell_type": "code",
   "execution_count": 3,
   "id": "3aff840d",
   "metadata": {},
   "outputs": [
    {
     "name": "stdout",
     "output_type": "stream",
     "text": [
      "Welcome to python Class\n"
     ]
    }
   ],
   "source": [
    "def greet(): # A function without a parameter\n",
    "    print('Welcome to python Class')\n",
    "greet() "
   ]
  },
  {
   "cell_type": "code",
   "execution_count": 7,
   "id": "acf90fb2",
   "metadata": {},
   "outputs": [
    {
     "name": "stdout",
     "output_type": "stream",
     "text": [
      "Welcome to python class Job\n"
     ]
    }
   ],
   "source": [
    "def greet2(name):# A function with a single parameter\n",
    "    print(f'Welcome to python class {name}')\n",
    "greet2('Job')"
   ]
  },
  {
   "cell_type": "code",
   "execution_count": 9,
   "id": "777ed9d2",
   "metadata": {},
   "outputs": [
    {
     "name": "stdout",
     "output_type": "stream",
     "text": [
      "Welcome to python class Faith\n"
     ]
    }
   ],
   "source": [
    "greet2('Faith')"
   ]
  },
  {
   "cell_type": "code",
   "execution_count": 11,
   "id": "b9cf5b40",
   "metadata": {},
   "outputs": [
    {
     "name": "stdout",
     "output_type": "stream",
     "text": [
      "_______DETAILS_______\n",
      "NAME: Jame Ford\n",
      "AGE: 25\n",
      "GENDER: Male\n",
      "HEIGHT: 1.65\n",
      "\n",
      "Sorry not selected\n"
     ]
    }
   ],
   "source": [
    "def Basketball_selection(name, age, gender, height):\n",
    "    print(f'''_______DETAILS_______\n",
    "NAME: {name}\n",
    "AGE: {age}\n",
    "GENDER: {gender}\n",
    "HEIGHT: {height}\n",
    "''')\n",
    "    if height >= 1.90 and age >=16:\n",
    "        print('Congratulations you have been selected for the upcoming game')\n",
    "    else:\n",
    "        print('Sorry not selected')\n",
    "Basketball_selection('Jame Ford',25,'Male',1.65)"
   ]
  },
  {
   "cell_type": "code",
   "execution_count": 12,
   "id": "afe4b842",
   "metadata": {},
   "outputs": [
    {
     "name": "stdout",
     "output_type": "stream",
     "text": [
      "_______DETAILS_______\n",
      "NAME: Mary Akpan\n",
      "AGE: 18\n",
      "GENDER: Female\n",
      "HEIGHT: 1.92\n",
      "\n",
      "Congratulations you have been selected for the upcoming game\n"
     ]
    }
   ],
   "source": [
    "Basketball_selection('Mary Akpan',18,'Female',1.92)"
   ]
  },
  {
   "cell_type": "code",
   "execution_count": 18,
   "id": "7d021f57",
   "metadata": {},
   "outputs": [
    {
     "name": "stdout",
     "output_type": "stream",
     "text": [
      "CHOOSE TRANSACTION OPTION [deposit,transfer,airtime, data,balance, logout]deposit\n",
      "Enter Deposit Amount:80000\n",
      "Transaction successful\n",
      "CHOOSE TRANSACTION OPTION [deposit,transfer,airtime, data,balance, logout]balance\n",
      "Your avaliable balance is 80000.0\n",
      "CHOOSE TRANSACTION OPTION [deposit,transfer,airtime, data,balance, logout]airtime\n",
      "Enter airtime Amount:5000\n",
      "Transaction successful\n",
      "CHOOSE TRANSACTION OPTION [deposit,transfer,airtime, data,balance, logout]balance\n",
      "Your avaliable balance is 75000.0\n",
      "CHOOSE TRANSACTION OPTION [deposit,transfer,airtime, data,balance, logout]deposit\n",
      "Enter Deposit Amount:100000\n",
      "Transaction successful\n",
      "CHOOSE TRANSACTION OPTION [deposit,transfer,airtime, data,balance, logout]balance\n",
      "Your avaliable balance is 175000.0\n",
      "CHOOSE TRANSACTION OPTION [deposit,transfer,airtime, data,balance, logout]transfer\n",
      "Enter Transfer Amount:85000\n",
      "Transaction successful\n",
      "CHOOSE TRANSACTION OPTION [deposit,transfer,airtime, data,balance, logout]balance\n",
      "Your avaliable balance is 90000.0\n",
      "CHOOSE TRANSACTION OPTION [deposit,transfer,airtime, data,balance, logout]logout\n",
      "Logging out have nice day\n"
     ]
    }
   ],
   "source": [
    "balance = 0\n",
    "def sparkjet():\n",
    "    global balance\n",
    "    def deposit():\n",
    "        global balance\n",
    "        amount = float(input('Enter Deposit Amount:'))\n",
    "        balance = balance + amount\n",
    "        print('Transaction successful')\n",
    "    def transafer():\n",
    "        global balance\n",
    "        amount = float(input('Enter Transfer Amount:'))\n",
    "        if amount > balance or amount == 0:\n",
    "            print('Insufficient Funds')\n",
    "        else:\n",
    "            balance = balance - amount\n",
    "            print('Transaction successful')\n",
    "    def airtime():\n",
    "        global balance\n",
    "        amount = float(input('Enter airtime Amount:'))\n",
    "        if amount > balance or amount == 0:\n",
    "            print('Insufficient Funds')\n",
    "        else:\n",
    "            balance = balance - amount\n",
    "            print('Transaction successful')\n",
    "    def data():\n",
    "        global balance\n",
    "        amount = float(input('Enter data Amount:'))\n",
    "        if amount > balance or amount == 0:\n",
    "            print('Insufficient Funds')\n",
    "        else:\n",
    "            balance = balance - amount\n",
    "            print('Transaction successful')\n",
    "    def checkbalance():\n",
    "        global balance\n",
    "        print(f'Your avaliable balance is {balance}')\n",
    "    operation = True\n",
    "    counter = 0\n",
    "    while operation:\n",
    "        option = input('CHOOSE TRANSACTION OPTION [deposit,transfer,airtime, data,balance, logout]')\n",
    "        if option =='deposit':\n",
    "            deposit()\n",
    "        elif option =='transfer':\n",
    "            transafer()\n",
    "        elif option == 'airtime':\n",
    "            airtime()\n",
    "        elif option == 'data':\n",
    "            data()\n",
    "        elif option == 'balance':\n",
    "            checkbalance()\n",
    "        elif option == 'logout':\n",
    "            print('Logging out have nice day')\n",
    "            break\n",
    "            operation = False\n",
    "        counter = counter + 1\n",
    "sparkjet()"
   ]
  },
  {
   "cell_type": "code",
   "execution_count": null,
   "id": "519152ac",
   "metadata": {},
   "outputs": [],
   "source": []
  }
 ],
 "metadata": {
  "kernelspec": {
   "display_name": "Python 3 (ipykernel)",
   "language": "python",
   "name": "python3"
  },
  "language_info": {
   "codemirror_mode": {
    "name": "ipython",
    "version": 3
   },
   "file_extension": ".py",
   "mimetype": "text/x-python",
   "name": "python",
   "nbconvert_exporter": "python",
   "pygments_lexer": "ipython3",
   "version": "3.11.5"
  }
 },
 "nbformat": 4,
 "nbformat_minor": 5
}
