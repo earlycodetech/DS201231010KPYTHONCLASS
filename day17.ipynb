{
 "cells": [
  {
   "cell_type": "markdown",
   "id": "0574c5c8",
   "metadata": {},
   "source": [
    "# # Write a simple Python code for a phone store management system with MySQL as the database"
   ]
  },
  {
   "cell_type": "code",
   "execution_count": 1,
   "id": "d676879a",
   "metadata": {},
   "outputs": [],
   "source": [
    "#mysql.connector / pymysql"
   ]
  },
  {
   "cell_type": "code",
   "execution_count": 1,
   "id": "157ade8e",
   "metadata": {},
   "outputs": [],
   "source": [
    "import pymysql"
   ]
  },
  {
   "cell_type": "code",
   "execution_count": 4,
   "id": "5e3d1252",
   "metadata": {},
   "outputs": [
    {
     "name": "stdout",
     "output_type": "stream",
     "text": [
      "('customer_record',)\n",
      "('earlycodeacademy',)\n",
      "('information_schema',)\n",
      "('mysql',)\n",
      "('performance_schema',)\n",
      "('phonestore',)\n",
      "('primeinstitutes',)\n",
      "('sakila',)\n",
      "('sys',)\n",
      "('world',)\n"
     ]
    }
   ],
   "source": [
    "mydb = pymysql.connect(\n",
    "    host='localhost',\n",
    "    user ='root',\n",
    "    port= 3360,\n",
    "    password ='seyilaw1'\n",
    ")\n",
    "mycursor = mydb.cursor()\n",
    "mycursor.execute('create database PHONESTORE;')\n",
    "mycursor.execute('show databases')\n",
    "for x in mycursor:\n",
    "    print(x)"
   ]
  },
  {
   "cell_type": "code",
   "execution_count": 5,
   "id": "7fbfee23",
   "metadata": {},
   "outputs": [
    {
     "name": "stdout",
     "output_type": "stream",
     "text": [
      "Enter MYSQL host:localhost\n",
      "Enter MYSQL user:root\n",
      "Enter MYSQL port:3360\n",
      "Enter MYSQL password:seyilaw1\n",
      "\n",
      "Phone Store Mnagement System\n",
      "1. Add phone\n",
      "2. Search Phone\n",
      "3. Exit\n",
      "Enter your choice (1/2/3):Tecno\n",
      "Invalid input. Please enter 1,2 or3\n",
      "\n",
      "Phone Store Mnagement System\n",
      "1. Add phone\n",
      "2. Search Phone\n",
      "3. Exit\n",
      "Enter your choice (1/2/3):1\n",
      "Enter Phone Brand:Tecno\n",
      "Enter Phone Model:Spark7 Pro\n",
      "Enter Phone Price:75000\n",
      "PHONE ADDED SUCCESSFULLY!\n",
      "\n",
      "Phone Store Mnagement System\n",
      "1. Add phone\n",
      "2. Search Phone\n",
      "3. Exit\n",
      "Enter your choice (1/2/3):1\n",
      "Enter Phone Brand:Samsung\n",
      "Enter Phone Model:S23 Ultra\n",
      "Enter Phone Price:1200000\n",
      "PHONE ADDED SUCCESSFULLY!\n",
      "\n",
      "Phone Store Mnagement System\n",
      "1. Add phone\n",
      "2. Search Phone\n",
      "3. Exit\n",
      "Enter your choice (1/2/3):2\n",
      "Enter brand or model to searchSpark7 Pro\n",
      "MATCHING PHONES ARE:\n",
      "(2, 'Tecno', 'Spark7 Pro', 75000.0)\n",
      "\n",
      "Phone Store Mnagement System\n",
      "1. Add phone\n",
      "2. Search Phone\n",
      "3. Exit\n",
      "Enter your choice (1/2/3):2\n",
      "Enter brand or model to searchTecno\n",
      "MATCHING PHONES ARE:\n",
      "(1, 'Tecno', 'Camon20', 250000.0)\n",
      "(2, 'Tecno', 'Spark7 Pro', 75000.0)\n",
      "\n",
      "Phone Store Mnagement System\n",
      "1. Add phone\n",
      "2. Search Phone\n",
      "3. Exit\n",
      "Enter your choice (1/2/3):3\n"
     ]
    }
   ],
   "source": [
    "class PhoneStore:\n",
    "    def __init__(self, host,user,port,password,database):\n",
    "        self.conn = pymysql.connect(\n",
    "            host = host,\n",
    "            user = user,\n",
    "            port = port,\n",
    "            password =password,\n",
    "            database =database\n",
    "        )\n",
    "        self.cursor = self.conn.cursor()\n",
    "        self.create_table()\n",
    "        \n",
    "    def create_table(self):\n",
    "        self.cursor.execute('''\n",
    "        CREATE TABLE IF NOT EXISTS PHONETABLE(\n",
    "        ID INT AUTO_INCREMENT PRIMARY KEY NOT NULL,\n",
    "        BRAND VARCHAR(255) NOT NULL,\n",
    "        MODEL VARCHAR(255) NOT NULL,\n",
    "        PRICE FLOAT NOT NULL\n",
    "        )\n",
    "        ''')\n",
    "        self.conn.commit()\n",
    "    def add_phone(self, brand,model,price):\n",
    "        self.cursor.execute('INSERT INTO PHONETABLE(BRAND,MODEL,PRICE) VALUES(%s,%s,%s)',(brand,model,price))\n",
    "        self.conn.commit()\n",
    "        print('PHONE ADDED SUCCESSFULLY!')\n",
    "    def search_phone(self,keyword):\n",
    "        self.cursor.execute('SELECT * FROM PHONETABLE WHERE BRAND LIKE %s OR MODEL LIKE %s', (f\"%{keyword}%\", f\"%{keyword}%\"))\n",
    "        result = self.cursor.fetchall()\n",
    "        if not result:\n",
    "            print('NO MATCHING RECORDS FOUND.')\n",
    "        else:\n",
    "            print('MATCHING PHONES ARE:')\n",
    "            for row in result:\n",
    "                print(row)\n",
    "    def close_conn(self):\n",
    "        self.cursor.close()\n",
    "        self.conn.close()\n",
    "        \n",
    "def main():\n",
    "    host = input('Enter MYSQL host:')\n",
    "    user = input('Enter MYSQL user:')\n",
    "    port = int(input('Enter MYSQL port:'))\n",
    "    password = input('Enter MYSQL password:')\n",
    "    database =\"phonestore\"\n",
    "    program = PhoneStore(host, user, port,password, database)\n",
    "    while True:\n",
    "        print('\\nPhone Store Mnagement System')\n",
    "        print('1. Add phone\\n2. Search Phone\\n3. Exit')\n",
    "        choice =  input('Enter your choice (1/2/3):')\n",
    "        if choice == '1':\n",
    "            BRAND = input('Enter Phone Brand:')\n",
    "            MODEL = input('Enter Phone Model:')\n",
    "            PRICE = float(input('Enter Phone Price:'))\n",
    "            program.add_phone(BRAND,MODEL,PRICE)\n",
    "        elif choice== '2':\n",
    "            keyword = input('Enter brand or model to search')\n",
    "            program.search_phone(keyword)\n",
    "        elif choice =='3':\n",
    "            break\n",
    "        else:\n",
    "            print('Invalid input. Please enter 1,2 or3')\n",
    "        #program.close_conn()\n",
    "main()\n",
    "        "
   ]
  },
  {
   "cell_type": "code",
   "execution_count": null,
   "id": "8330a1de",
   "metadata": {},
   "outputs": [],
   "source": []
  }
 ],
 "metadata": {
  "kernelspec": {
   "display_name": "Python 3 (ipykernel)",
   "language": "python",
   "name": "python3"
  },
  "language_info": {
   "codemirror_mode": {
    "name": "ipython",
    "version": 3
   },
   "file_extension": ".py",
   "mimetype": "text/x-python",
   "name": "python",
   "nbconvert_exporter": "python",
   "pygments_lexer": "ipython3",
   "version": "3.11.5"
  }
 },
 "nbformat": 4,
 "nbformat_minor": 5
}
