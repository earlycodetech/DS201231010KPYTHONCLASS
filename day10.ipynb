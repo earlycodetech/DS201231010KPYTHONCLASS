{
 "cells": [
  {
   "cell_type": "code",
   "execution_count": 1,
   "metadata": {},
   "outputs": [],
   "source": [
    "# try\n",
    "# except\n",
    "# else\n",
    "# finally"
   ]
  },
  {
   "cell_type": "code",
   "execution_count": 3,
   "metadata": {},
   "outputs": [
    {
     "name": "stdout",
     "output_type": "stream",
     "text": [
      "You have encountered on or more errors.\n"
     ]
    }
   ],
   "source": [
    "try:\n",
    "    num1 = int(input('Enter Number One:'))\n",
    "    num2 = int(input('Enter Number Two:'))\n",
    "except:\n",
    "    print('You have encountered one or more errors.')"
   ]
  },
  {
   "cell_type": "code",
   "execution_count": 7,
   "metadata": {},
   "outputs": [
    {
     "name": "stdout",
     "output_type": "stream",
     "text": [
      "45 + 9 = 54\n"
     ]
    }
   ],
   "source": [
    "try:\n",
    "    num1 = int(input('Enter Number One:'))\n",
    "    num2 = int(input('Enter Number Two:'))\n",
    "    operation = input('Choose your operation[+,-,/,*]:')\n",
    "    if operation == '+':\n",
    "        print(f'{num1} + {num2} = {num1 + num2}')\n",
    "    elif operation == '-':\n",
    "        print(f'{num1} - {num2} = {num1 - num2}')\n",
    "    elif operation == '/':\n",
    "        print(f'{num1} / {num2} = {num1 / num2}')\n",
    "    elif operation == '*':\n",
    "        print(f'{num1} * {num2} = {num1 * num2}')\n",
    "except ValueError:\n",
    "    print('Wrong value, Only whole numbers is expected')\n",
    "except ZeroDivisionError:\n",
    "    print('You cannot divide a number by zero')\n",
    "except:\n",
    "    print('You have encountered one or more errors.')"
   ]
  },
  {
   "cell_type": "markdown",
   "metadata": {},
   "source": []
  },
  {
   "cell_type": "code",
   "execution_count": 8,
   "metadata": {},
   "outputs": [
    {
     "data": {
      "text/plain": [
       "'The total cost is 855.0'"
      ]
     },
     "execution_count": 8,
     "metadata": {},
     "output_type": "execute_result"
    }
   ],
   "source": [
    "def calculate_shipping_cost(weigth, item_condition,destination):\n",
    "    shipping_rates = {\n",
    "        'Region1':5,\n",
    "        'Region2':7,\n",
    "        'Region3':9,\n",
    "        'Region4': 11\n",
    "    }\n",
    "    condition_charge = 0\n",
    "    if item_condition == 'fragile':\n",
    "        condition_charge = 5\n",
    "    elif item_condition == 'flammable':\n",
    "        condition_charge = 8\n",
    "    shipping_rate = shipping_rates.get(destination,0)\n",
    "    totalcost = (shipping_rate+ condition_charge)*weigth\n",
    "    return f'The total cost is {totalcost}'\n",
    "weight = float(input('Enter item weight:'))\n",
    "item_condition = input('Enter Item Condition:')\n",
    "destination = input('Enter item destination')\n",
    "calculate_shipping_cost(weight, item_condition, destination)"
   ]
  },
  {
   "cell_type": "code",
   "execution_count": 2,
   "metadata": {},
   "outputs": [
    {
     "name": "stdout",
     "output_type": "stream",
     "text": [
      "The total cost is 125.0\n",
      "End of program\n"
     ]
    }
   ],
   "source": [
    "def calculate_shipping_cost(weight, item_condition, destination):\n",
    "    shipping_rates = {\n",
    "        'Region1': 5,\n",
    "        'Region2': 7,\n",
    "        'Region3': 9,\n",
    "        'Region4': 11\n",
    "    }\n",
    "    condition_charge = 0\n",
    "    try:\n",
    "        if item_condition == 'fragile':\n",
    "            condition_charge = 5\n",
    "        elif item_condition == 'flammable':\n",
    "            condition_charge = 8\n",
    "        shipping_rate = shipping_rates.get(destination, 0)\n",
    "        totalcost = (shipping_rate + condition_charge) * weight\n",
    "        return f'The total cost is {totalcost}'\n",
    "    except KeyError:\n",
    "        return 'Key Does Not Exist'\n",
    "    except Exception as e:\n",
    "        return f'Error: {e}'\n",
    "\n",
    "try:\n",
    "    weight = float(input('Enter item weight:'))\n",
    "    item_condition = input('Enter Item Condition:')\n",
    "    destination = input('Enter item destination:')\n",
    "except ValueError:\n",
    "    print('Only float or integer value for weight')\n",
    "else:\n",
    "    result = calculate_shipping_cost(weight, item_condition, destination)\n",
    "    print(result)\n",
    "finally:\n",
    "    print('End of program')\n"
   ]
  },
  {
   "cell_type": "code",
   "execution_count": null,
   "metadata": {},
   "outputs": [],
   "source": [
    "# ASSIGNMENT SIX: ERROR HANDLING\n",
    "# DEBUG THE ABOVE CODE TO FIX THE DISPLAY ISSUE"
   ]
  }
 ],
 "metadata": {
  "kernelspec": {
   "display_name": "Python 3",
   "language": "python",
   "name": "python3"
  },
  "language_info": {
   "codemirror_mode": {
    "name": "ipython",
    "version": 3
   },
   "file_extension": ".py",
   "mimetype": "text/x-python",
   "name": "python",
   "nbconvert_exporter": "python",
   "pygments_lexer": "ipython3",
   "version": "3.9.9"
  }
 },
 "nbformat": 4,
 "nbformat_minor": 2
}
