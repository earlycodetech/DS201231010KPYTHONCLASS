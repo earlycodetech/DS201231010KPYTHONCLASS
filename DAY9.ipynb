{
 "cells": [
  {
   "cell_type": "markdown",
   "id": "2d697e38",
   "metadata": {},
   "source": [
    "# EXERCISE\n",
    "# USING CLASS AND OBJECT WRITE A PROGRAM FOR A PHONE STORE TO TAKE IN PHONE STOCK AND DISPLAY INVENTORY\n",
    "# NOTE USE A WHILE LOOP TO MAKE IT A RUNNING SYSTEM\n",
    "# YOU HAVE 35 MIN"
   ]
  },
  {
   "cell_type": "code",
   "execution_count": null,
   "id": "71eb10fb",
   "metadata": {},
   "outputs": [
    {
     "name": "stdout",
     "output_type": "stream",
     "text": [
      "1. Add a phone to inventory\n",
      " 2. Display Inventory\n",
      "3. Exit\n",
      "Enter your choice of operation (1/2/3)2\n",
      "The inventory is empty\n",
      "1. Add a phone to inventory\n",
      " 2. Display Inventory\n",
      "3. Exit\n"
     ]
    }
   ],
   "source": [
    "class phone:\n",
    "    def __init__(self, brand, model,price):\n",
    "        self.brand = brand\n",
    "        self.model = model\n",
    "        self.price = price\n",
    "    def display_info(self):\n",
    "        print(f'{self.brand} {self.model} - N{self.price}')\n",
    "class phonestore:\n",
    "    def __init__(self):\n",
    "        self.inventory = []\n",
    "    def add_stock(self, phone):\n",
    "        self.inventory.append(phone)\n",
    "        print(f'{phone.brand} {phone.model} added successfully')\n",
    "    def display(self):\n",
    "        if not self.inventory:\n",
    "            print('The inventory is empty')\n",
    "        else:\n",
    "            print('Inventory Details')\n",
    "            for phone in self.inventory:\n",
    "                phone.display_info()\n",
    "phone_store = phonestore()\n",
    "while True:\n",
    "    print('1. Add a phone to inventory\\n 2. Display Inventory\\n3. Exit')\n",
    "    choice = input('Enter your choice of operation (1/2/3)')\n",
    "    if choice =='1':\n",
    "        brand = input('Enter Phone Brand:')\n",
    "        model = input('Enter Phone Model:')\n",
    "        price = float(input('Enter Phone price:'))\n",
    "        phone_store.add_stock(phone(brand, model,price))\n",
    "    elif choice =='2':\n",
    "        phone_store.display()\n",
    "    elif choice =='3':\n",
    "        print('Exiting the system..............')\n",
    "        break"
   ]
  },
  {
   "cell_type": "code",
   "execution_count": null,
   "id": "678d4765",
   "metadata": {},
   "outputs": [],
   "source": []
  }
 ],
 "metadata": {
  "kernelspec": {
   "display_name": "Python 3 (ipykernel)",
   "language": "python",
   "name": "python3"
  },
  "language_info": {
   "codemirror_mode": {
    "name": "ipython",
    "version": 3
   },
   "file_extension": ".py",
   "mimetype": "text/x-python",
   "name": "python",
   "nbconvert_exporter": "python",
   "pygments_lexer": "ipython3",
   "version": "3.11.5"
  }
 },
 "nbformat": 4,
 "nbformat_minor": 5
}
