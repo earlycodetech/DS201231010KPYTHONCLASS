{
 "cells": [
  {
   "cell_type": "code",
   "execution_count": 1,
   "id": "dec23bf8",
   "metadata": {},
   "outputs": [],
   "source": [
    "# class"
   ]
  },
  {
   "cell_type": "code",
   "execution_count": 3,
   "id": "86e30fb8",
   "metadata": {},
   "outputs": [],
   "source": [
    "class person:\n",
    "    atrr1 = 'Ade'\n",
    "    attr2  =25\n",
    "ob = person()"
   ]
  },
  {
   "cell_type": "code",
   "execution_count": 4,
   "id": "5fdc6ae4",
   "metadata": {},
   "outputs": [
    {
     "data": {
      "text/plain": [
       "'Ade'"
      ]
     },
     "execution_count": 4,
     "metadata": {},
     "output_type": "execute_result"
    }
   ],
   "source": [
    "ob.atrr1"
   ]
  },
  {
   "cell_type": "code",
   "execution_count": 5,
   "id": "a35183c5",
   "metadata": {},
   "outputs": [
    {
     "data": {
      "text/plain": [
       "25"
      ]
     },
     "execution_count": 5,
     "metadata": {},
     "output_type": "execute_result"
    }
   ],
   "source": [
    "ob.attr2"
   ]
  },
  {
   "cell_type": "code",
   "execution_count": 18,
   "id": "cb65a1e4",
   "metadata": {},
   "outputs": [],
   "source": [
    "class person:\n",
    "    attr1 = 'Ade'\n",
    "    attr2  =25\n",
    "    \n",
    "    def details(self):\n",
    "        print(f'''NAME:{self.attr1}\n",
    "AGE: {self.attr2}\n",
    "''')\n",
    "ob = person()"
   ]
  },
  {
   "cell_type": "code",
   "execution_count": 19,
   "id": "d8b06299",
   "metadata": {},
   "outputs": [
    {
     "name": "stdout",
     "output_type": "stream",
     "text": [
      "NAME:Ade\n",
      "AGE: 25\n",
      "\n"
     ]
    }
   ],
   "source": [
    "ob.details()"
   ]
  },
  {
   "cell_type": "code",
   "execution_count": null,
   "id": "39d8ef1c",
   "metadata": {},
   "outputs": [],
   "source": [
    "#weight (kg) / [height (m)]2"
   ]
  },
  {
   "cell_type": "code",
   "execution_count": 24,
   "id": "da112a0b",
   "metadata": {},
   "outputs": [],
   "source": [
    "class BMISYSTEM:\n",
    "    def __init__(self):\n",
    "        self.name = ''\n",
    "        self.gender = ''\n",
    "        self.dob=''\n",
    "        self.height = 0.0\n",
    "        self.weight = 0.0\n",
    "        self.country = ''\n",
    "        self.continent = ''\n",
    "        \n",
    "    def accept(self):\n",
    "        self.name = input('Enter Customer Name:')\n",
    "        self.gender = input('Enter Customer Gender:')\n",
    "        self.dob = input('Enter Customer Date of Birth [mm/dd/yy]:')\n",
    "        self.height = float(input('Enter Customer Height in meters:'))\n",
    "        self.weight = float(input('Enter Customer Weight in kg:'))\n",
    "        self.country = input('Enter Customer Country:')\n",
    "        self.continent = input('Enter Customer Continent:')\n",
    "        customerlist.append((self.name,self.gender,self.dob,self.height,self.weight,self.country,self.continent))\n",
    "    def bmisection(self):\n",
    "        cid = int(input('Enter Customer ID:'))\n",
    "        bmi = (customerlist[cid][4]/(customerlist[cid][3])**2)\n",
    "        if customerlist[cid][6] == 'Africa':\n",
    "            print(f'Your BMI is {bmi}, kindly check on your doctor for advice. Your checking charge is $15')\n",
    "        elif customerlist[cid][6] == 'Europe':\n",
    "            print(f'Your BMI is {bmi}, kindly check on your doctor for advice. Your checking charge is $20')\n",
    "        elif customerlist[cid][6] == 'South America':\n",
    "            print(f'Your BMI is {bmi}, kindly check on your doctor for advice. Your checking charge is $25')\n",
    "        elif customerlist[cid][6] == 'North America':\n",
    "            print(f'Your BMI is {bmi}, kindly check on your doctor for advice. Your checking charge is $25')\n",
    "        elif customerlist[cid][6] == 'Asia':\n",
    "            print(f'Your BMI is {bmi}, kindly check on your doctor for advice. Your checking charge is $30')\n",
    "        elif customerlist[cid][6] == 'Australia':\n",
    "            print(f'Your BMI is {bmi}, kindly check on your doctor for advice. Your checking charge is $30')\n",
    "    def display(self):\n",
    "        cid = int(input('Enter Customer ID:'))\n",
    "        print(f'''____________________CUSTOMER DETAILS___________________\n",
    "NAME:{customerlist[cid][0]}\n",
    "GENDER:{customerlist[cid][1]}\n",
    "DOB:{customerlist[cid][2]}\n",
    "HEIGHT:{customerlist[cid][3]}\n",
    "WEIGHT:{customerlist[cid][4]}\n",
    "COUNTRY:{customerlist[cid][5]}\n",
    "CONTINENT:{customerlist[cid][6]}\n",
    "''')\n",
    "customerlist = []\n",
    "program =  BMISYSTEM()\n",
    "    "
   ]
  },
  {
   "cell_type": "code",
   "execution_count": 26,
   "id": "63730bcf",
   "metadata": {},
   "outputs": [
    {
     "name": "stdout",
     "output_type": "stream",
     "text": [
      "Enter Customer Name:Herny Ford\n",
      "Enter Customer Gender:Male\n",
      "Enter Customer Date of Birth [mm/dd/yy]:10/22/1970\n",
      "Enter Customer Height in meters:1.85\n",
      "Enter Customer Weight in kg:75\n",
      "Enter Customer Country:England\n",
      "Enter Customer Continent:Europe\n"
     ]
    }
   ],
   "source": [
    "program.accept()"
   ]
  },
  {
   "cell_type": "code",
   "execution_count": 27,
   "id": "32919eec",
   "metadata": {},
   "outputs": [
    {
     "name": "stdout",
     "output_type": "stream",
     "text": [
      "Enter Customer ID:0\n",
      "____________________CUSTOMER DETAILS___________________\n",
      "NAME:Herny Ford\n",
      "GENDER:Male\n",
      "DOB:10/22/1970\n",
      "HEIGHT:1.85\n",
      "WEIGHT:75.0\n",
      "COUNTRY:England\n",
      "CONTINENT:Europe\n",
      "\n"
     ]
    }
   ],
   "source": [
    "program.display()"
   ]
  },
  {
   "cell_type": "code",
   "execution_count": 28,
   "id": "6de59a7d",
   "metadata": {},
   "outputs": [
    {
     "name": "stdout",
     "output_type": "stream",
     "text": [
      "Enter Customer ID:0\n",
      "Your BMI is 21.913805697589478, kindly check on your doctor for advice. Your checking charge is $20\n"
     ]
    }
   ],
   "source": [
    "program.bmisection()"
   ]
  },
  {
   "cell_type": "code",
   "execution_count": null,
   "id": "49109cf1",
   "metadata": {},
   "outputs": [],
   "source": []
  }
 ],
 "metadata": {
  "kernelspec": {
   "display_name": "Python 3 (ipykernel)",
   "language": "python",
   "name": "python3"
  },
  "language_info": {
   "codemirror_mode": {
    "name": "ipython",
    "version": 3
   },
   "file_extension": ".py",
   "mimetype": "text/x-python",
   "name": "python",
   "nbconvert_exporter": "python",
   "pygments_lexer": "ipython3",
   "version": "3.11.5"
  }
 },
 "nbformat": 4,
 "nbformat_minor": 5
}
