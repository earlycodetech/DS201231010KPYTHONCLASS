{
 "cells": [
  {
   "cell_type": "code",
   "execution_count": null,
   "id": "e4214b4e",
   "metadata": {},
   "outputs": [],
   "source": [
    "import pymysql\n",
    "\n",
    "class CollaborativeProject:\n",
    "    def __init__(self, host, user, password, database):\n",
    "        self.db_connection = self.DatabaseConnection(host, user, password, database)\n",
    "\n",
    "    class DatabaseConnection:\n",
    "        def __init__(self, host, user, password, database):\n",
    "            self.host = host\n",
    "            self.user = user\n",
    "            self.password = password\n",
    "            self.database = database\n",
    "            self.connection = None\n",
    "            \n",
    "            \n",
    "    class Book:\n",
    "        def __init__(self, title, author, isbn):\n",
    "            self.title = title\n",
    "            self.author = author\n",
    "            self.isbn = isbn\n",
    "            \n",
    "            \n",
    "    class Member:\n",
    "        def __init__(self, name, address, membership_status):\n",
    "            self.name = name\n",
    "            self.address = address\n",
    "            self.membership_status = membership_status"
   ]
  }
 ],
 "metadata": {
  "kernelspec": {
   "display_name": "Python 3 (ipykernel)",
   "language": "python",
   "name": "python3"
  },
  "language_info": {
   "codemirror_mode": {
    "name": "ipython",
    "version": 3
   },
   "file_extension": ".py",
   "mimetype": "text/x-python",
   "name": "python",
   "nbconvert_exporter": "python",
   "pygments_lexer": "ipython3",
   "version": "3.11.5"
  }
 },
 "nbformat": 4,
 "nbformat_minor": 5
}
