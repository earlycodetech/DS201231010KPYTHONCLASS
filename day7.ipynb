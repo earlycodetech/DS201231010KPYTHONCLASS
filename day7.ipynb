{
 "cells": [
  {
   "cell_type": "code",
   "execution_count": 1,
   "id": "4e7555a6",
   "metadata": {},
   "outputs": [
    {
     "name": "stdout",
     "output_type": "stream",
     "text": [
      "PLAYER ONE DICE OUTCOME IS 8\n",
      "PLAYER TWO DICE OUTCOME IS 8\n",
      "DRAW\n",
      "PLAYER ONE DICE OUTCOME IS 8\n",
      "PLAYER TWO DICE OUTCOME IS 9\n",
      "PLAYER TWO WINS\n",
      "PLAYER ONE DICE OUTCOME IS 7\n",
      "PLAYER TWO DICE OUTCOME IS 6\n",
      "PLAYER ONE WINS\n",
      "PLAYER ONE DICE OUTCOME IS 9\n",
      "PLAYER TWO DICE OUTCOME IS 6\n",
      "PLAYER ONE WINS\n",
      "PLAYER ONE DICE OUTCOME IS 7\n",
      "PLAYER TWO DICE OUTCOME IS 7\n",
      "DRAW\n",
      "PLAYER ONE DICE OUTCOME IS 5\n",
      "PLAYER TWO DICE OUTCOME IS 10\n",
      "PLAYER TWO WINS\n",
      "PLAYER ONE DICE OUTCOME IS 5\n",
      "PLAYER TWO DICE OUTCOME IS 8\n",
      "PLAYER TWO WINS\n",
      "PLAYER ONE DICE OUTCOME IS 5\n",
      "PLAYER TWO DICE OUTCOME IS 5\n",
      "DRAW\n",
      "PLAYER ONE DICE OUTCOME IS 8\n",
      "PLAYER TWO DICE OUTCOME IS 6\n",
      "PLAYER ONE WINS\n",
      "PLAYER ONE DICE OUTCOME IS 10\n",
      "PLAYER TWO DICE OUTCOME IS 9\n",
      "PLAYER ONE WINS\n",
      "PLAYER ONE IS THE OVERALL WINNER WITH 23 POINT\n"
     ]
    }
   ],
   "source": [
    "def roll_dice():\n",
    "    score1 = 0\n",
    "    score2 = 0\n",
    "    counter = 1\n",
    "    import random\n",
    "    while counter <= 10:\n",
    "        dice1 = random.randint(1,6) + random.randint(1,6)\n",
    "        dice2 = random.randint(1,6) + random.randint(1,6)\n",
    "        \n",
    "        if dice1 > dice2:\n",
    "            print(f'PLAYER ONE DICE OUTCOME IS {dice1}')\n",
    "            print(f'PLAYER TWO DICE OUTCOME IS {dice2}')\n",
    "            print('PLAYER ONE WINS')\n",
    "            score1 +=5\n",
    "        elif dice2 > dice1:\n",
    "            print(f'PLAYER ONE DICE OUTCOME IS {dice1}')\n",
    "            print(f'PLAYER TWO DICE OUTCOME IS {dice2}')\n",
    "            print('PLAYER TWO WINS')\n",
    "            score2 +=5\n",
    "        elif dice1 == dice2:\n",
    "            print(f'PLAYER ONE DICE OUTCOME IS {dice1}')\n",
    "            print(f'PLAYER TWO DICE OUTCOME IS {dice2}')\n",
    "            print('DRAW')\n",
    "            score2 +=1\n",
    "            score1 +=1\n",
    "        counter +=1\n",
    "    if score1 > score2:\n",
    "        print(f'PLAYER ONE IS THE OVERALL WINNER WITH {score1} POINT')\n",
    "    elif score2 > score1:\n",
    "        print(f'PLAYER TWO IS THE OVERALL WINNER WITH {score2} POINT')\n",
    "    else:\n",
    "        print('IT IS A BRAW')\n",
    "roll_dice()"
   ]
  },
  {
   "cell_type": "code",
   "execution_count": 2,
   "id": "2274fcb0",
   "metadata": {},
   "outputs": [
    {
     "name": "stdout",
     "output_type": "stream",
     "text": [
      "The average score of (78, 95, 69, 36, 35, 25) is 56.33\n"
     ]
    }
   ],
   "source": [
    "# non-key word\n",
    "# keyword\n",
    "def average(*numbers):\n",
    "    avg = sum(numbers)/len(numbers)\n",
    "    print(f'The average score of {numbers} is {round(avg,2)}')\n",
    "average(78,95,69,36,35,25)"
   ]
  },
  {
   "cell_type": "code",
   "execution_count": 3,
   "id": "09775302",
   "metadata": {},
   "outputs": [],
   "source": [
    "score = [80,85,90,95,78]"
   ]
  },
  {
   "cell_type": "code",
   "execution_count": 4,
   "id": "743f3246",
   "metadata": {},
   "outputs": [
    {
     "name": "stdout",
     "output_type": "stream",
     "text": [
      "The average score of (80, 85, 90, 95, 78) is 85.6\n"
     ]
    }
   ],
   "source": [
    "average(*score)"
   ]
  },
  {
   "cell_type": "code",
   "execution_count": 5,
   "id": "40c791e5",
   "metadata": {},
   "outputs": [],
   "source": [
    "import mymodules"
   ]
  },
  {
   "cell_type": "code",
   "execution_count": 6,
   "id": "4607832d",
   "metadata": {},
   "outputs": [
    {
     "name": "stdout",
     "output_type": "stream",
     "text": [
      "['__builtins__', '__cached__', '__doc__', '__file__', '__loader__', '__name__', '__package__', '__spec__', 'average', 'total']\n"
     ]
    }
   ],
   "source": [
    "print(dir(mymodules))"
   ]
  },
  {
   "cell_type": "code",
   "execution_count": 7,
   "id": "cdae0c35",
   "metadata": {},
   "outputs": [
    {
     "name": "stdout",
     "output_type": "stream",
     "text": [
      "The average score of (85, 887, 96, 36, 35) is 227.8\n"
     ]
    }
   ],
   "source": [
    "mymodules.average(85,887,96,36,35)"
   ]
  },
  {
   "cell_type": "code",
   "execution_count": 8,
   "id": "01b8227f",
   "metadata": {},
   "outputs": [
    {
     "name": "stdout",
     "output_type": "stream",
     "text": [
      "The total score of (14, 25, 36, 39, 84, 45) is 243\n"
     ]
    }
   ],
   "source": [
    "mymodules.total(14,25,36,39,84,45)"
   ]
  },
  {
   "cell_type": "code",
   "execution_count": 12,
   "id": "5d9db0cd",
   "metadata": {},
   "outputs": [
    {
     "name": "stdout",
     "output_type": "stream",
     "text": [
      "Name :: Ade\n",
      "id1 :: 1\n"
     ]
    }
   ],
   "source": [
    "def records_storing(**details):\n",
    "    for key, value in details.items():\n",
    "        print(key, '::', value)\n",
    "records_storing(Name ='Ade', id1 = 1)"
   ]
  },
  {
   "cell_type": "code",
   "execution_count": 13,
   "id": "dbb70407",
   "metadata": {},
   "outputs": [
    {
     "data": {
      "text/plain": [
       "32"
      ]
     },
     "execution_count": 13,
     "metadata": {},
     "output_type": "execute_result"
    }
   ],
   "source": [
    "# LAMBDA FUNCTION\n",
    "(lambda x,y,z: x+y*z)(12,10,2)"
   ]
  },
  {
   "cell_type": "code",
   "execution_count": 15,
   "id": "0c99e503",
   "metadata": {},
   "outputs": [
    {
     "name": "stdout",
     "output_type": "stream",
     "text": [
      "Enter your password:Sety45544\n"
     ]
    },
    {
     "data": {
      "text/plain": [
       "'Yes Sety45544 is correct'"
      ]
     },
     "execution_count": 15,
     "metadata": {},
     "output_type": "execute_result"
    }
   ],
   "source": [
    "(lambda password: f'Yes {password} is correct' if password[0] == password[0].upper() and len(password) >=8 else 'Incorect password')(input('Enter your password:'))"
   ]
  },
  {
   "cell_type": "code",
   "execution_count": 16,
   "id": "2348f6f9",
   "metadata": {},
   "outputs": [],
   "source": [
    "# WRITE A LAMBDA FUNCTION TO CHECK IF A USERS NUMBER IS EVEN OR ODD"
   ]
  },
  {
   "cell_type": "code",
   "execution_count": 18,
   "id": "bd5d1994",
   "metadata": {},
   "outputs": [
    {
     "name": "stdout",
     "output_type": "stream",
     "text": [
      "Enter your number:79\n"
     ]
    },
    {
     "data": {
      "text/plain": [
       "'79 is odd'"
      ]
     },
     "execution_count": 18,
     "metadata": {},
     "output_type": "execute_result"
    }
   ],
   "source": [
    "(lambda usernumber: f'{usernumber} is even' if usernumber %2==0 else f'{usernumber} is odd')(int(input('Enter your number:')))"
   ]
  },
  {
   "cell_type": "code",
   "execution_count": null,
   "id": "016ab88b",
   "metadata": {},
   "outputs": [],
   "source": []
  }
 ],
 "metadata": {
  "kernelspec": {
   "display_name": "Python 3 (ipykernel)",
   "language": "python",
   "name": "python3"
  },
  "language_info": {
   "codemirror_mode": {
    "name": "ipython",
    "version": 3
   },
   "file_extension": ".py",
   "mimetype": "text/x-python",
   "name": "python",
   "nbconvert_exporter": "python",
   "pygments_lexer": "ipython3",
   "version": "3.11.5"
  }
 },
 "nbformat": 4,
 "nbformat_minor": 5
}
