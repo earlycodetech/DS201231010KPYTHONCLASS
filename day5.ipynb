{
 "cells": [
  {
   "cell_type": "code",
   "execution_count": 1,
   "id": "0f4ab4d3",
   "metadata": {},
   "outputs": [
    {
     "name": "stdout",
     "output_type": "stream",
     "text": [
      "pppp\n",
      "yyyy\n",
      "tttt\n",
      "hhhh\n",
      "oooo\n",
      "nnnn\n"
     ]
    }
   ],
   "source": [
    "word = 'python'\n",
    "for char in word:\n",
    "    print(char *4)"
   ]
  },
  {
   "cell_type": "code",
   "execution_count": 4,
   "id": "f6eac216",
   "metadata": {},
   "outputs": [
    {
     "name": "stdout",
     "output_type": "stream",
     "text": [
      "pppp yyyy tttt hhhh oooo nnnn "
     ]
    }
   ],
   "source": [
    "word = 'python'\n",
    "for char in word:\n",
    "    print(char *4, end =' ')"
   ]
  },
  {
   "cell_type": "code",
   "execution_count": 8,
   "id": "3e2c9791",
   "metadata": {},
   "outputs": [
    {
     "name": "stdout",
     "output_type": "stream",
     "text": [
      "python\n",
      "python\n",
      "python\n",
      "python\n",
      "python\n"
     ]
    }
   ],
   "source": [
    "for i in range(5):\n",
    "    print(word)"
   ]
  },
  {
   "cell_type": "markdown",
   "id": "6888f396",
   "metadata": {},
   "source": [
    "## WRITE A PROGRAM TO CHECK IF AN ITEM IS IN STOCK AND CALCULATE THE TOTAL COST OF ITEMS IN THE SHOPPING CART"
   ]
  },
  {
   "cell_type": "code",
   "execution_count": 15,
   "id": "24d2c452",
   "metadata": {},
   "outputs": [
    {
     "name": "stdout",
     "output_type": "stream",
     "text": [
      "The total cost of items in the cart is N12100.0\n"
     ]
    }
   ],
   "source": [
    "products = {\n",
    "    'item1':{'Name':'Big Burger', 'Price':3000.00,'Stock':15},\n",
    "    'item2':{'Name':'Small Burger', 'Price':1500.00,'Stock':25},\n",
    "    'item3':{'Name':'Chicken Pie', 'Price':800.00,'Stock':50}\n",
    "}\n",
    "cart = []\n",
    "totalcost = 0\n",
    "cart.append(('item1',2))\n",
    "cart.append(('item3',2))\n",
    "cart.append(('item2',3))\n",
    "for item in cart:\n",
    "        id, quantity =  item\n",
    "        if id in products and products[id]['Stock'] >= quantity:\n",
    "            totalcost += products[id]['Price'] * quantity\n",
    "            \n",
    "        else:\n",
    "            print('Out of Stock')\n",
    "if totalcost > 0:\n",
    "    print(f'The total cost of items in the cart is N{totalcost}')\n",
    "else:\n",
    "    print('No item in the cart')\n"
   ]
  },
  {
   "cell_type": "code",
   "execution_count": 16,
   "id": "63437fc7",
   "metadata": {},
   "outputs": [],
   "source": [
    "# WHILE LOOP"
   ]
  },
  {
   "cell_type": "code",
   "execution_count": 18,
   "id": "abd8db9d",
   "metadata": {},
   "outputs": [
    {
     "name": "stdout",
     "output_type": "stream",
     "text": [
      "Enter your number:22\n",
      "The sqrt of 22 is 4.69041575982343\n",
      "Enter your number:24\n",
      "The sqrt of 24 is 4.898979485566356\n",
      "Enter your number:30\n",
      "The sqrt of 30 is 5.477225575051661\n",
      "Enter your number:25\n",
      "The sqrt of 25 is 5.0\n",
      "Enter your number:0\n"
     ]
    }
   ],
   "source": [
    "num = int(input('Enter your number:'))\n",
    "import math\n",
    "counter = 0\n",
    "while num != 0:\n",
    "    print(f'The sqrt of {num} is {math.sqrt(num)}')\n",
    "    counter+=1\n",
    "    num = int(input('Enter your number:'))"
   ]
  },
  {
   "cell_type": "markdown",
   "id": "f8adce20",
   "metadata": {},
   "source": [
    "## WRITE A SIMPLE AUTHENTICATION SYSTEM THAT CHECKS A USER'S CREDENTIALS TO ALLOW MAXIMUM ATTEMPT OF 3 TIMES LOGIN"
   ]
  },
  {
   "cell_type": "code",
   "execution_count": 30,
   "id": "9ac73d1a",
   "metadata": {},
   "outputs": [
    {
     "name": "stdout",
     "output_type": "stream",
     "text": [
      "Enter your username:gdgfdtg\n",
      "Enter your password:dgdgf\n",
      "Login Faied\n",
      "Enter your username:dgrdfudfu\n",
      "Enter your password:dyddty\n",
      "Login Faied\n",
      "Enter your username:vjfufuefu\n",
      "Enter your password:tydfyewfy\n",
      "Login Faied\n",
      "Maximun Login attempts reached. Account Locked.\n"
     ]
    }
   ],
   "source": [
    "\n",
    "corret_username='Datpro'\n",
    "correct_password = 'Boss125'\n",
    "max_attempt =3\n",
    "login_attempt = 0\n",
    "while login_attempt < max_attempt:\n",
    "        username = input('Enter your username:')\n",
    "        password = input('Enter your password:')\n",
    "        if username == corret_username and password  == correct_password:\n",
    "                print('Login Successful, ' + username + '!')\n",
    "                break\n",
    "        else:\n",
    "                print('Login Faied')\n",
    "                login_attempt +=1\n",
    "if login_attempt == max_attempt:\n",
    "    print('Maximun Login attempts reached. Account Locked.')"
   ]
  },
  {
   "cell_type": "code",
   "execution_count": null,
   "id": "dc1926cb",
   "metadata": {},
   "outputs": [],
   "source": []
  }
 ],
 "metadata": {
  "kernelspec": {
   "display_name": "Python 3 (ipykernel)",
   "language": "python",
   "name": "python3"
  },
  "language_info": {
   "codemirror_mode": {
    "name": "ipython",
    "version": 3
   },
   "file_extension": ".py",
   "mimetype": "text/x-python",
   "name": "python",
   "nbconvert_exporter": "python",
   "pygments_lexer": "ipython3",
   "version": "3.11.5"
  }
 },
 "nbformat": 4,
 "nbformat_minor": 5
}
