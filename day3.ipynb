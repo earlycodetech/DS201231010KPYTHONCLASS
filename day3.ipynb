{
 "cells": [
  {
   "cell_type": "markdown",
   "id": "e162dd6b",
   "metadata": {},
   "source": [
    "# COMPARISON OPERATORS"
   ]
  },
  {
   "cell_type": "code",
   "execution_count": 1,
   "id": "248fe5ba",
   "metadata": {},
   "outputs": [
    {
     "name": "stdout",
     "output_type": "stream",
     "text": [
      "Enter First Number:25\n",
      "Enter Second Number:25\n",
      "False\n",
      "False\n",
      "True\n",
      "True\n",
      "True\n",
      "False\n"
     ]
    }
   ],
   "source": [
    "num1 = int(input('Enter First Number:'))\n",
    "num2 = int(input('Enter Second Number:'))\n",
    "print(num1 > num2)\n",
    "print(num1 < num2)\n",
    "print(num1 >= num2)\n",
    "print(num1 <= num2)\n",
    "print(num1 == num2)\n",
    "print(num1 != num2)"
   ]
  },
  {
   "cell_type": "markdown",
   "id": "37f33d61",
   "metadata": {},
   "source": [
    "# LOGICAL OPEARTORS"
   ]
  },
  {
   "cell_type": "code",
   "execution_count": 2,
   "id": "422ab25c",
   "metadata": {},
   "outputs": [
    {
     "name": "stdout",
     "output_type": "stream",
     "text": [
      "True\n",
      "True\n",
      "False\n"
     ]
    }
   ],
   "source": [
    "print(num1  == num2 and num1 <= num2)\n",
    "print(num1  == num2 or num1 <= num2)\n",
    "print(not num1)"
   ]
  },
  {
   "cell_type": "markdown",
   "id": "efe07aa5",
   "metadata": {},
   "source": [
    "# IDENTITY OPERATORS"
   ]
  },
  {
   "cell_type": "code",
   "execution_count": 3,
   "id": "2a46b61e",
   "metadata": {},
   "outputs": [
    {
     "name": "stdout",
     "output_type": "stream",
     "text": [
      "True\n",
      "False\n"
     ]
    }
   ],
   "source": [
    "print(num1 is num2)\n",
    "print(num1 is not num2)"
   ]
  },
  {
   "cell_type": "markdown",
   "id": "a5a5a8ec",
   "metadata": {},
   "source": [
    "# ITERABLE OBJECT (ADVANCE DATA TYPES)"
   ]
  },
  {
   "cell_type": "code",
   "execution_count": 4,
   "id": "19ff29ed",
   "metadata": {},
   "outputs": [],
   "source": [
    "numbers = (14,12,20,25,26,14,10,9,78,95,14,65)"
   ]
  },
  {
   "cell_type": "code",
   "execution_count": 5,
   "id": "54cc1adb",
   "metadata": {},
   "outputs": [
    {
     "name": "stdout",
     "output_type": "stream",
     "text": [
      "12\n"
     ]
    }
   ],
   "source": [
    "print(len(numbers))"
   ]
  },
  {
   "cell_type": "code",
   "execution_count": 6,
   "id": "b67f38a7",
   "metadata": {},
   "outputs": [
    {
     "name": "stdout",
     "output_type": "stream",
     "text": [
      "<class 'tuple'>\n"
     ]
    }
   ],
   "source": [
    "print(type(numbers))"
   ]
  },
  {
   "cell_type": "code",
   "execution_count": 8,
   "id": "cb1b9e1e",
   "metadata": {},
   "outputs": [
    {
     "name": "stdout",
     "output_type": "stream",
     "text": [
      "14\n"
     ]
    }
   ],
   "source": [
    "print(numbers[5]) # forward selection of a value counting from 0"
   ]
  },
  {
   "cell_type": "code",
   "execution_count": 9,
   "id": "5d1225ed",
   "metadata": {},
   "outputs": [
    {
     "name": "stdout",
     "output_type": "stream",
     "text": [
      "14\n"
     ]
    }
   ],
   "source": [
    "print(numbers[-7]) # backward selection of a values counting from -1"
   ]
  },
  {
   "cell_type": "code",
   "execution_count": 10,
   "id": "1bb76b8c",
   "metadata": {},
   "outputs": [
    {
     "name": "stdout",
     "output_type": "stream",
     "text": [
      "False\n"
     ]
    }
   ],
   "source": [
    "print(100 in numbers)"
   ]
  },
  {
   "cell_type": "code",
   "execution_count": 11,
   "id": "ad4d72d4",
   "metadata": {},
   "outputs": [
    {
     "name": "stdout",
     "output_type": "stream",
     "text": [
      "True\n"
     ]
    }
   ],
   "source": [
    "print(100 not in numbers)"
   ]
  },
  {
   "cell_type": "code",
   "execution_count": 12,
   "id": "cf04148f",
   "metadata": {},
   "outputs": [
    {
     "name": "stdout",
     "output_type": "stream",
     "text": [
      "3\n"
     ]
    }
   ],
   "source": [
    "print(numbers.count(14))"
   ]
  },
  {
   "cell_type": "code",
   "execution_count": 13,
   "id": "0f16480f",
   "metadata": {},
   "outputs": [
    {
     "name": "stdout",
     "output_type": "stream",
     "text": [
      "3\n"
     ]
    }
   ],
   "source": [
    "print(numbers.index(25))"
   ]
  },
  {
   "cell_type": "markdown",
   "id": "17759c88",
   "metadata": {},
   "source": [
    "# LIST"
   ]
  },
  {
   "cell_type": "code",
   "execution_count": 14,
   "id": "af175c7c",
   "metadata": {},
   "outputs": [],
   "source": [
    "items = ['Banana','Apple','Lemon','Orange']"
   ]
  },
  {
   "cell_type": "code",
   "execution_count": 15,
   "id": "ef1cc829",
   "metadata": {},
   "outputs": [
    {
     "name": "stdout",
     "output_type": "stream",
     "text": [
      "['Banana', 'Apple', 'Lemon', 'Orange', 'Pear']\n"
     ]
    }
   ],
   "source": [
    "items.append('Pear')\n",
    "print(items) # append will add the new the value at end of the existing list"
   ]
  },
  {
   "cell_type": "code",
   "execution_count": 16,
   "id": "2364bccd",
   "metadata": {},
   "outputs": [
    {
     "name": "stdout",
     "output_type": "stream",
     "text": [
      "['Banana', 'Apple', 'Lemon', 'Strawberry', 'Orange', 'Pear']\n"
     ]
    }
   ],
   "source": [
    "items.insert(3,'Strawberry')# insert will add the new the value at the specified location\n",
    "#in the existing list\n",
    "print(items)"
   ]
  },
  {
   "cell_type": "code",
   "execution_count": 17,
   "id": "a7cbd715",
   "metadata": {},
   "outputs": [
    {
     "name": "stdout",
     "output_type": "stream",
     "text": [
      "['Banana', 'Apple', 'Lemon', 'Strawberry', 'Orange', 'Pear', 'Lemon', 'Pear', 'Coconut']\n"
     ]
    }
   ],
   "source": [
    "f = ['Lemon','Pear','Coconut']\n",
    "items.extend(f)# extend will add  all values from an existing list to our present working list\n",
    "print(items)"
   ]
  },
  {
   "cell_type": "code",
   "execution_count": 18,
   "id": "81f0ac2e",
   "metadata": {},
   "outputs": [
    {
     "name": "stdout",
     "output_type": "stream",
     "text": [
      "['Banana', 'Apple', 'Lemon', 'Strawberry', 'Orange', 'Lemon', 'Pear', 'Coconut']\n"
     ]
    }
   ],
   "source": [
    "items.pop(5) # pop will remove a value on the specified index location\n",
    "print(items)"
   ]
  },
  {
   "cell_type": "code",
   "execution_count": 19,
   "id": "47a05359",
   "metadata": {},
   "outputs": [
    {
     "name": "stdout",
     "output_type": "stream",
     "text": [
      "['Banana', 'Apple', 'Strawberry', 'Orange', 'Lemon', 'Pear', 'Coconut']\n"
     ]
    }
   ],
   "source": [
    "items.remove('Lemon')# remove will drop  the specified  value \n",
    "print(items)"
   ]
  },
  {
   "cell_type": "code",
   "execution_count": 20,
   "id": "3301b162",
   "metadata": {},
   "outputs": [
    {
     "name": "stdout",
     "output_type": "stream",
     "text": [
      "['Apple', 'Banana', 'Coconut', 'Lemon', 'Orange', 'Pear', 'Strawberry']\n"
     ]
    }
   ],
   "source": [
    "items.sort()\n",
    "print(items)"
   ]
  },
  {
   "cell_type": "code",
   "execution_count": 23,
   "id": "62ab3647",
   "metadata": {},
   "outputs": [
    {
     "name": "stdout",
     "output_type": "stream",
     "text": [
      "['Strawberry', 'Pear', 'Orange', 'Lemon', 'Coconut', 'Banana', 'Apple']\n"
     ]
    }
   ],
   "source": [
    "items.reverse()\n",
    "print(items)"
   ]
  },
  {
   "cell_type": "code",
   "execution_count": 24,
   "id": "10d31264",
   "metadata": {},
   "outputs": [
    {
     "name": "stdout",
     "output_type": "stream",
     "text": [
      "['Strawberry', 'Pear', 'Orange', 'Lemon', 'Coconut', 'Banana', 'Apple']\n"
     ]
    }
   ],
   "source": [
    "items_copy = items.copy()\n",
    "print(items_copy)"
   ]
  },
  {
   "cell_type": "code",
   "execution_count": 26,
   "id": "bb20ab6f",
   "metadata": {},
   "outputs": [
    {
     "name": "stdout",
     "output_type": "stream",
     "text": [
      "[]\n"
     ]
    }
   ],
   "source": [
    "items_copy.clear()\n",
    "print(items_copy)"
   ]
  },
  {
   "cell_type": "code",
   "execution_count": 27,
   "id": "683b7b2b",
   "metadata": {},
   "outputs": [
    {
     "ename": "NameError",
     "evalue": "name 'items_copy' is not defined",
     "output_type": "error",
     "traceback": [
      "\u001b[1;31m---------------------------------------------------------------------------\u001b[0m",
      "\u001b[1;31mNameError\u001b[0m                                 Traceback (most recent call last)",
      "Cell \u001b[1;32mIn[27], line 2\u001b[0m\n\u001b[0;32m      1\u001b[0m \u001b[38;5;28;01mdel\u001b[39;00m(items_copy)\n\u001b[1;32m----> 2\u001b[0m \u001b[38;5;28mprint\u001b[39m(items_copy)\n",
      "\u001b[1;31mNameError\u001b[0m: name 'items_copy' is not defined"
     ]
    }
   ],
   "source": [
    "del(items_copy)\n",
    "print(items_copy)"
   ]
  },
  {
   "cell_type": "code",
   "execution_count": null,
   "id": "044c4ca0",
   "metadata": {},
   "outputs": [],
   "source": []
  }
 ],
 "metadata": {
  "kernelspec": {
   "display_name": "Python 3 (ipykernel)",
   "language": "python",
   "name": "python3"
  },
  "language_info": {
   "codemirror_mode": {
    "name": "ipython",
    "version": 3
   },
   "file_extension": ".py",
   "mimetype": "text/x-python",
   "name": "python",
   "nbconvert_exporter": "python",
   "pygments_lexer": "ipython3",
   "version": "3.11.5"
  }
 },
 "nbformat": 4,
 "nbformat_minor": 5
}
